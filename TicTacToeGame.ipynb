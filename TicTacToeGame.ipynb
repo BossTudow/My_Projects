{
 "cells": [
  {
   "cell_type": "code",
   "execution_count": 66,
   "metadata": {},
   "outputs": [],
   "source": [
    "from IPython.display import clear_output\n",
    "import random\n",
    "\n",
    "'''\n",
    "This function creates the Game board. \n",
    "'''\n",
    "def display_board(board):\n",
    "    clear_output()\n",
    "    print(board[7] + '|' + board[8] + '|' + board[9])\n",
    "    print('----')\n",
    "    print(board[4] + '|' + board[5] + '|' + board[6])\n",
    "    print('----')\n",
    "    print(board[1] + '|' + board[2] + '|' + board[3])"
   ]
  },
  {
   "cell_type": "code",
   "execution_count": 67,
   "metadata": {},
   "outputs": [],
   "source": [
    "'''\n",
    "This function here will take in player input and assign their marker 'X' or 'O'\n",
    "'''\n",
    "\n",
    "def player_input():\n",
    "\n",
    "    '''\n",
    "    OUTPUT: player1_marker,player2_marker = player_input()\n",
    "    '''\n",
    "\n",
    "    \n",
    "    marker = ''\n",
    "\n",
    "    while marker != 'X' and marker != 'O':\n",
    "        print('Player 1 Please choose X or O')\n",
    "        marker = input('INSERT: ').upper()\n",
    "\n",
    "    if marker == 'X':\n",
    "        return ('X','O')\n",
    "    else:\n",
    "        return ('O','X')\n"
   ]
  },
  {
   "cell_type": "code",
   "execution_count": 68,
   "metadata": {},
   "outputs": [],
   "source": [
    "'''\n",
    "This function takes in the board list object, a marker ('X' or 'O'), and a desired position (number 1-9) and assigns it to the board. \n",
    "'''\n",
    "\n",
    "def place_marker(board, marker, position):\n",
    "\n",
    "    board[position] = marker\n"
   ]
  },
  {
   "cell_type": "code",
   "execution_count": 69,
   "metadata": {},
   "outputs": [],
   "source": [
    "'''\n",
    "This function takes in a board and a mark (X or O) and then checks to see if that mark has won.\n",
    "\n",
    "How to win? \n",
    "ALL ROWS, and check to see if they all share the same marker?\n",
    "ALL COLUMNS, check to see if the marker matches\n",
    "2 diagonals, check to see match \n",
    "'''\n",
    "\n",
    "def win_check(board, mark):\n",
    "    \n",
    "    return ((board[1] == board[2] == board[3] == mark) or\n",
    "    (board[4] == board[5] == board[6] == mark) or\n",
    "    (board[7] == board[8] == board[9] == mark) or\n",
    "    (board[1] == board[4] == board[7] == mark) or\n",
    "    (board[2] == board[5] == board[8] == mark) or\n",
    "    (board[3] == board[6] == board[9] == mark) or\n",
    "    (board[1] == board[5] == board[9] == mark) or\n",
    "    (board[3] == board[5] == board[7] == mark))"
   ]
  },
  {
   "cell_type": "code",
   "execution_count": 70,
   "metadata": {},
   "outputs": [],
   "source": [
    "'''\n",
    "This function uses the random module to randomly decide which player goes first.\n",
    "'''\n",
    "\n",
    "def choose_first():\n",
    "    if random.randint(0,1) == 0:\n",
    "        return 'Player 1'\n",
    "    else:\n",
    "        return 'Player 2'"
   ]
  },
  {
   "cell_type": "code",
   "execution_count": 71,
   "metadata": {},
   "outputs": [],
   "source": [
    "'''\n",
    "This function returns a boolean indicating whether a space on the board is freely available. \n",
    "'''\n",
    "\n",
    "def space_check(board, position):\n",
    "    \n",
    "    return board[position] == ' '"
   ]
  },
  {
   "cell_type": "code",
   "execution_count": 72,
   "metadata": {},
   "outputs": [],
   "source": [
    "'''\n",
    "This function checks if the board is full and returns a boolean value. True if Full, False otherwise. \n",
    "'''\n",
    "def full_board_check(board):\n",
    "    for i in range(1,10):\n",
    "        if space_check(board, i):\n",
    "            return False\n",
    "    return True"
   ]
  },
  {
   "cell_type": "code",
   "execution_count": 73,
   "metadata": {},
   "outputs": [],
   "source": [
    "'''\n",
    "This function asks for a player's next position (as a number 1-9) and then uses the function from step 6 to check if it's a free position. If it is, then return the position for later use. \n",
    "'''\n",
    "\n",
    "def player_choice(board):\n",
    "    position = 0\n",
    "    \n",
    "    while position not in [1,2,3,4,5,6,7,8,9] or not space_check(board, position):\n",
    "        position = int(input('Choose your next position: (1-9) '))\n",
    "        \n",
    "    return position"
   ]
  },
  {
   "cell_type": "code",
   "execution_count": 74,
   "metadata": {},
   "outputs": [],
   "source": [
    "'''\n",
    "This function asks the player if they want to play again and returns a boolean True if they do want to \n",
    "'''\n",
    "\n",
    "def replay():\n",
    "    choice = input('Do you want to play again? Yes or no?')\n",
    "    \n",
    "    if choice == 'Yes' or choice ==  'yes' or choice ==  'YES':\n",
    "        return choice\n"
   ]
  },
  {
   "cell_type": "code",
   "execution_count": 79,
   "metadata": {},
   "outputs": [
    {
     "name": "stdout",
     "output_type": "stream",
     "text": [
      "O|X|O\n",
      "----\n",
      " |X| \n",
      "----\n",
      " |X|O\n",
      "Congratulations! You have won the game!\n"
     ]
    }
   ],
   "source": [
    "print('Welcome to Tic Tac Toe!')\n",
    "\n",
    "    ## set up everything ( board, who's first, choose markers x,o)\n",
    "\n",
    "    #empty board 1-9\n",
    "\n",
    "while True:\n",
    "    # Reset the board\n",
    "    theBoard = [' '] * 10\n",
    "    #making choice of player 1 and 2\n",
    "    player1_marker, player2_marker = player_input()\n",
    "    #random choice of who goes first\n",
    "    turn = choose_first()\n",
    "    #printing player1 or 2 will go first\n",
    "    pr7int(turn + ' will go first.')\n",
    "    \n",
    "    play_game = input('Are you ready to play? Enter y or n.')\n",
    "    \n",
    "    if play_game.lower()[0] == 'y':\n",
    "        game_on = True\n",
    "    else:\n",
    "        game_on = False\n",
    "\n",
    "    while game_on:\n",
    "        if turn == 'Player 1':\n",
    "            # Player1's turn.\n",
    "            \n",
    "            display_board(theBoard)\n",
    "            position = player_choice(theBoard)\n",
    "            place_marker(theBoard, player1_marker, position)\n",
    "\n",
    "            if win_check(theBoard, player1_marker):\n",
    "                display_board(theBoard)\n",
    "                print('Congratulations! You have won the game!')\n",
    "                game_on = False\n",
    "            else:\n",
    "                if full_board_check(theBoard):\n",
    "                    display_board(theBoard)\n",
    "                    print('The game is a draw!')\n",
    "                    break\n",
    "                else:\n",
    "                    turn = 'Player 2'\n",
    "\n",
    "        else:\n",
    "            # Player2's turn.\n",
    "            \n",
    "            display_board(theBoard)\n",
    "            position = player_choice(theBoard)\n",
    "            place_marker(theBoard, player2_marker, position)\n",
    "\n",
    "            if win_check(theBoard, player2_marker):\n",
    "                display_board(theBoard)\n",
    "                print('Player 2 has won!')\n",
    "                game_on = False\n",
    "            else:\n",
    "                if full_board_check(theBoard):\n",
    "                    display_board(theBoard)\n",
    "                    print('The game is a draw!')\n",
    "                    break\n",
    "                else:\n",
    "                    turn = 'Player 1'\n",
    "\n",
    "    if not replay():\n",
    "        break"
   ]
  }
 ],
 "metadata": {
  "interpreter": {
   "hash": "2ea12cf286df089b11a6cb68325e87fcfa089201f409c495c04410483d53a39c"
  },
  "kernelspec": {
   "display_name": "Python 3.8.10 64-bit ('py38': conda)",
   "language": "python",
   "name": "python3"
  },
  "language_info": {
   "codemirror_mode": {
    "name": "ipython",
    "version": 3
   },
   "file_extension": ".py",
   "mimetype": "text/x-python",
   "name": "python",
   "nbconvert_exporter": "python",
   "pygments_lexer": "ipython3",
   "version": "3.8.10"
  },
  "orig_nbformat": 4
 },
 "nbformat": 4,
 "nbformat_minor": 2
}
